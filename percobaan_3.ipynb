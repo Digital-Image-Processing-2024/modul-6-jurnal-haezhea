{
 "cells": [
  {
   "cell_type": "code",
   "execution_count": 4,
   "metadata": {},
   "outputs": [],
   "source": [
    "# Import library yang kalian butuhkan\n",
    "import matplotlib.pyplot as plt\n",
    "import numpy as np\n",
    "import cv2 as cv\n",
    "import os\n",
    "import math\n",
    "import pandas as pd\n",
    "import random\n",
    "from tqdm import tqdm\n",
    "from sklearn.model_selection import train_test_split\n",
    "from sklearn.ensemble import RandomForestClassifier\n",
    "from sklearn.metrics import confusion_matrix, accuracy_score, precision_score, recall_score, f1_score\n",
    "from sklearn.exceptions import UndefinedMetricWarning\n",
    "import warnings"
   ]
  },
  {
   "cell_type": "markdown",
   "metadata": {},
   "source": [
    "## Data Loading"
   ]
  },
  {
   "cell_type": "code",
   "execution_count": 5,
   "metadata": {},
   "outputs": [],
   "source": [
    "def insertPic(folder):\n",
    "    data = []\n",
    "    filenames = []\n",
    "    datalabel = []\n",
    "    data_distribution = {}\n",
    "    for label in (os.listdir(folder)):\n",
    "        images = os.listdir(folder+label)\n",
    "        data_distribution[label] = len(images)\n",
    "        datalabel.append(label)\n",
    "        print(label)\n",
    "        for filename in tqdm(os.listdir(folder+label)):\n",
    "            img = cv.imread(os.path.join(folder+label, filename))\n",
    "            if img is not None:\n",
    "                img = cv.cvtColor(img, cv.COLOR_BGR2RGB)\n",
    "                img = cv.resize(img, (150, 150))\n",
    "                filenames.append(filename)\n",
    "                data.append(img)\n",
    "    return data, filenames, datalabel, data_distribution\n"
   ]
  },
  {
   "cell_type": "code",
   "execution_count": 6,
   "metadata": {},
   "outputs": [
    {
     "name": "stdout",
     "output_type": "stream",
     "text": [
      "finger_1\n"
     ]
    },
    {
     "name": "stderr",
     "output_type": "stream",
     "text": [
      "100%|██████████| 442/442 [00:56<00:00,  7.79it/s]\n"
     ]
    },
    {
     "name": "stdout",
     "output_type": "stream",
     "text": [
      "finger_2\n"
     ]
    },
    {
     "name": "stderr",
     "output_type": "stream",
     "text": [
      "100%|██████████| 437/437 [00:55<00:00,  7.89it/s]\n"
     ]
    },
    {
     "name": "stdout",
     "output_type": "stream",
     "text": [
      "finger_3\n"
     ]
    },
    {
     "name": "stderr",
     "output_type": "stream",
     "text": [
      "100%|██████████| 438/438 [00:56<00:00,  7.81it/s]\n"
     ]
    },
    {
     "name": "stdout",
     "output_type": "stream",
     "text": [
      "finger_4\n"
     ]
    },
    {
     "name": "stderr",
     "output_type": "stream",
     "text": [
      "100%|██████████| 442/442 [00:55<00:00,  7.93it/s]\n"
     ]
    },
    {
     "name": "stdout",
     "output_type": "stream",
     "text": [
      "finger_5\n"
     ]
    },
    {
     "name": "stderr",
     "output_type": "stream",
     "text": [
      "100%|██████████| 440/440 [00:55<00:00,  7.92it/s]"
     ]
    },
    {
     "name": "stdout",
     "output_type": "stream",
     "text": [
      "Data:  2100\n",
      "Label:  5\n",
      "Filenames:  2100\n",
      "Data Distribution:  {'finger_1': 442, 'finger_2': 437, 'finger_3': 438, 'finger_4': 442, 'finger_5': 440}\n"
     ]
    },
    {
     "name": "stderr",
     "output_type": "stream",
     "text": [
      "\n"
     ]
    }
   ],
   "source": [
    "data, filenames, label, distribusi = insertPic(\"Finger Simulation Dataset 2024/\")\n",
    "print (\"Data: \", len(data))\n",
    "print (\"Label: \", len(label))\n",
    "print (\"Filenames: \", len(filenames))\n",
    "print (\"Data Distribution: \", distribusi)"
   ]
  },
  {
   "cell_type": "code",
   "execution_count": 7,
   "metadata": {},
   "outputs": [
    {
     "data": {
      "image/png": "[encoded data removed]",
      "text/plain": [
       "<Figure size 1000x500 with 1 Axes>"
      ]
     },
     "metadata": {},
     "output_type": "display_data"
    }
   ],
   "source": [
    "def distribusiPic(data_distribution):\n",
    "    plt.figure(figsize = (10, 5))\n",
    "    plt.bar(data_distribution.keys(), data_distribution.values())\n",
    "    plt.xlabel('Label')\n",
    "    plt.ylabel('Number of Images')\n",
    "    plt.title('Data Distribution')\n",
    "    plt.show()\n",
    "distribusiPic(distribusi)"
   ]
  },
  {
   "cell_type": "markdown",
   "metadata": {},
   "source": [
    "## Data Preparation"
   ]
  },
  {
   "cell_type": "markdown",
   "metadata": {},
   "source": [
    "### Data Augmentation"
   ]
  },
  {
   "cell_type": "code",
   "execution_count": 8,
   "metadata": {},
   "outputs": [],
   "source": [
    "# Fungsi translasi\n",
    "def translasi(image, x_shift, y_shift):\n",
    "    if len(image.shape) == 3:  # Check if it's a single image\n",
    "        rows, cols, _ = image.shape\n",
    "        M = np.float32([[1, 0, x_shift], [0, 1, y_shift]])\n",
    "        trans_img = np.zeros_like(image)\n",
    "        for i in range(rows):\n",
    "            for j in range(cols):\n",
    "                if 0 <= i + x_shift < rows and 0 <= j + y_shift < cols:\n",
    "                    trans_img[i + x_shift, j + y_shift] = image[i, j]\n",
    "        return trans_img\n",
    "    elif len(image[0].shape) == 3:  # Check if it's a list of images\n",
    "        translated_images = []\n",
    "        for img in image:\n",
    "            rows, cols, _ = img.shape\n",
    "            M = np.float32([[1, 0, x_shift], [0, 1, y_shift]])\n",
    "            trans_img = np.zeros_like(img)\n",
    "            for i in range(rows):\n",
    "                for j in range(cols):\n",
    "                    if 0 <= i + x_shift < rows and 0 <= j + y_shift < cols:\n",
    "                        trans_img[i + x_shift, j + y_shift] = img[i, j]\n",
    "            translated_images.append(trans_img)\n",
    "        return translated_images\n",
    "    else:\n",
    "        raise ValueError(\"Invalid input: image should be either a single image or a list of images.\")\n",
    "\n",
    "# Fungsi flipping\n",
    "def flipping(image, axis):\n",
    "    if axis == 0:  # Vertical flipping\n",
    "        return image[::-1, :]\n",
    "    elif axis == 1:  # Horizontal flipping\n",
    "        return image[:, ::-1]\n",
    "\n",
    "# Fungsi augmentasi\n",
    "def augmentasi(data, filenames, banyakData):\n",
    "    augmented_data = []\n",
    "    augmented_filenames = []\n",
    "    for i in tqdm(range(len(data))):\n",
    "        augmented_data.append(data[i])\n",
    "        augmented_filenames.append(filenames[i])\n",
    "        for j in range(banyakData):\n",
    "            if j % 4 == 0:\n",
    "                augmented_data.append(translasi(data[i], 10, 10))\n",
    "                augmented_filenames.append(filenames[i])\n",
    "            elif j % 4 == 1:\n",
    "                augmented_data.append(translasi(data[i], -10, -10))\n",
    "                augmented_filenames.append(filenames[i])\n",
    "            elif j % 4 == 2:\n",
    "                augmented_data.append(flipping(data[i], 0))  # Vertical flipping\n",
    "                augmented_filenames.append(filenames[i])\n",
    "            elif j % 4 == 3:\n",
    "                augmented_data.append(flipping(data[i], 1))  # Horizontal flipping\n",
    "                augmented_filenames.append(filenames[i])\n",
    "    return augmented_data, augmented_filenames"
   ]
  },
  {
   "cell_type": "code",
   "execution_count": 9,
   "metadata": {},
   "outputs": [
    {
     "name": "stderr",
     "output_type": "stream",
     "text": [
      "100%|██████████| 2100/2100 [01:54<00:00, 18.42it/s]\n"
     ]
    }
   ],
   "source": [
    "augmented_data, augmented_filenames = augmentasi(data, filenames, 5)"
   ]
  },
  {
   "cell_type": "markdown",
   "metadata": {},
   "source": [
    "### Preprocessing"
   ]
  },
  {
   "cell_type": "markdown",
   "metadata": {},
   "source": [
    "#### Preprocessing 1"
   ]
  },
  {
   "cell_type": "code",
   "execution_count": 10,
   "metadata": {},
   "outputs": [
    {
     "name": "stderr",
     "output_type": "stream",
     "text": [
      "Preprocessing: 100%|██████████| 2100/2100 [00:36<00:00, 58.30it/s]\n"
     ]
    }
   ],
   "source": [
    "def normalize(image):\n",
    "    min_val = np.min(image)\n",
    "    max_val = np.max(image)\n",
    "    normalized_image = ((image - min_val) / (max_val - min_val) * 255).astype(np.uint8)\n",
    "    return normalized_image\n",
    "\n",
    "def equalize_hist(image):\n",
    "    if len(image.shape) == 3:  # Convert to grayscale if it's a color image\n",
    "        image = cv.cvtColor(image, cv.COLOR_RGB2GRAY)\n",
    "    hist = [0] * 256\n",
    "    rows, cols = image.shape\n",
    "    equalized_image = np.zeros((rows, cols), dtype=np.uint8)\n",
    "    \n",
    "    # Hitung histogram\n",
    "    for i in range(rows):\n",
    "        for j in range(cols):\n",
    "            pixel_value = int(image[i, j])  # Cast pixel value to integer\n",
    "            hist[pixel_value] += 1\n",
    "    \n",
    "    # Hitung kumulatif histogram\n",
    "    cum_hist = [sum(hist[:i+1]) for i in range(256)]\n",
    "    \n",
    "    # Normalisasi kumulatif histogram\n",
    "    cum_hist_normalized = [round((val - min(cum_hist)) / (rows * cols - min(cum_hist)) * 255) for val in cum_hist]\n",
    "    \n",
    "    # Aplikasikan transformasi histogram\n",
    "    for i in range(rows):\n",
    "        for j in range(cols):\n",
    "            equalized_image[i, j] = cum_hist_normalized[int(image[i, j])]  # Cast pixel value to integer\n",
    "    \n",
    "    return equalized_image\n",
    "\n",
    "\n",
    "\n",
    "def preprocess_images(images):\n",
    "    preprocessed_images = []\n",
    "    \n",
    "    for image in tqdm(images, desc=\"Preprocessing\"):\n",
    "        normalized_image = normalize(image)\n",
    "        equalized_image = equalize_hist(normalized_image)\n",
    "        preprocessed_images.append(equalized_image)\n",
    "    \n",
    "    return preprocessed_images\n",
    "\n",
    "# Gunakan fungsi preprocessing untuk memproses data Anda\n",
    "preprocessed_images = preprocess_images(data)"
   ]
  },
  {
   "cell_type": "markdown",
   "metadata": {},
   "source": [
    "### Feature Extraction"
   ]
  },
  {
   "cell_type": "code",
   "execution_count": 11,
   "metadata": {},
   "outputs": [
    {
     "name": "stdout",
     "output_type": "stream",
     "text": [
      "   Image  Contrast  Dissimilarity  Homogeneity    Energy   Correlation  \\\n",
      "0      1       0.0            0.0          1.0  0.000116  1.404108e+13   \n",
      "1      2       0.0            0.0          1.0  0.000118  1.373173e+13   \n",
      "2      3       0.0            0.0          1.0  0.000116  1.400870e+13   \n",
      "3      4       0.0            0.0          1.0  0.000117  1.384612e+13   \n",
      "4      5       0.0            0.0          1.0  0.000117  1.377197e+13   \n",
      "5      6       0.0            0.0          1.0  0.000116  1.384503e+13   \n",
      "6      7       0.0            0.0          1.0  0.000117  1.373306e+13   \n",
      "7      8       0.0            0.0          1.0  0.000119  1.352407e+13   \n",
      "\n",
      "    Entropy       ASM  contrast_0  dissimilarity_0  ...  correlation_90  \\\n",
      "0  9.100791  0.000116         0.0              0.0  ...    1.404108e+13   \n",
      "1  9.084534  0.000118         0.0              0.0  ...    1.373173e+13   \n",
      "2  9.101066  0.000116         0.0              0.0  ...    1.400870e+13   \n",
      "3  9.090459  0.000117         0.0              0.0  ...    1.384612e+13   \n",
      "4  9.094907  0.000117         0.0              0.0  ...    1.377197e+13   \n",
      "5  9.096909  0.000116         0.0              0.0  ...    1.384503e+13   \n",
      "6  9.093364  0.000117         0.0              0.0  ...    1.373306e+13   \n",
      "7  9.080766  0.000119         0.0              0.0  ...    1.352407e+13   \n",
      "\n",
      "     asm_90  entropy_90  contrast_135  dissimilarity_135  homogeneity_135  \\\n",
      "0  9.100791    0.000116           0.0                0.0              1.0   \n",
      "1  9.084534    0.000118           0.0                0.0              1.0   \n",
      "2  9.101066    0.000116           0.0                0.0              1.0   \n",
      "3  9.090459    0.000117           0.0                0.0              1.0   \n",
      "4  9.094907    0.000117           0.0                0.0              1.0   \n",
      "5  9.096909    0.000116           0.0                0.0              1.0   \n",
      "6  9.093364    0.000117           0.0                0.0              1.0   \n",
      "7  9.080766    0.000119           0.0                0.0              1.0   \n",
      "\n",
      "   energy_135  correlation_135   asm_135  entropy_135  \n",
      "0    0.000116     1.404108e+13  9.100791     0.000116  \n",
      "1    0.000118     1.373173e+13  9.084534     0.000118  \n",
      "2    0.000116     1.400870e+13  9.101066     0.000116  \n",
      "3    0.000117     1.384612e+13  9.090459     0.000117  \n",
      "4    0.000117     1.377197e+13  9.094907     0.000117  \n",
      "5    0.000116     1.384503e+13  9.096909     0.000116  \n",
      "6    0.000117     1.373306e+13  9.093364     0.000117  \n",
      "7    0.000119     1.352407e+13  9.080766     0.000119  \n",
      "\n",
      "[8 rows x 36 columns]\n"
     ]
    },
    {
     "data": {
      "text/html": [
       "<div>\n",
       "<style scoped>\n",
       "    .dataframe tbody tr th:only-of-type {\n",
       "        vertical-align: middle;\n",
       "    }\n",
       "\n",
       "    .dataframe tbody tr th {\n",
       "        vertical-align: top;\n",
       "    }\n",
       "\n",
       "    .dataframe thead th {\n",
       "        text-align: right;\n",
       "    }\n",
       "</style>\n",
       "<table border=\"1\" class=\"dataframe\">\n",
       "  <thead>\n",
       "    <tr style=\"text-align: right;\">\n",
       "      <th></th>\n",
       "      <th>Image</th>\n",
       "      <th>Contrast</th>\n",
       "      <th>Dissimilarity</th>\n",
       "      <th>Homogeneity</th>\n",
       "      <th>Energy</th>\n",
       "      <th>Correlation</th>\n",
       "      <th>Entropy</th>\n",
       "      <th>ASM</th>\n",
       "      <th>contrast_0</th>\n",
       "      <th>dissimilarity_0</th>\n",
       "      <th>...</th>\n",
       "      <th>correlation_90</th>\n",
       "      <th>asm_90</th>\n",
       "      <th>entropy_90</th>\n",
       "      <th>contrast_135</th>\n",
       "      <th>dissimilarity_135</th>\n",
       "      <th>homogeneity_135</th>\n",
       "      <th>energy_135</th>\n",
       "      <th>correlation_135</th>\n",
       "      <th>asm_135</th>\n",
       "      <th>entropy_135</th>\n",
       "    </tr>\n",
       "  </thead>\n",
       "  <tbody>\n",
       "    <tr>\n",
       "      <th>0</th>\n",
       "      <td>1</td>\n",
       "      <td>0.0</td>\n",
       "      <td>0.0</td>\n",
       "      <td>1.0</td>\n",
       "      <td>0.000116</td>\n",
       "      <td>1.404108e+13</td>\n",
       "      <td>9.100791</td>\n",
       "      <td>0.000116</td>\n",
       "      <td>0.0</td>\n",
       "      <td>0.0</td>\n",
       "      <td>...</td>\n",
       "      <td>1.404108e+13</td>\n",
       "      <td>9.100791</td>\n",
       "      <td>0.000116</td>\n",
       "      <td>0.0</td>\n",
       "      <td>0.0</td>\n",
       "      <td>1.0</td>\n",
       "      <td>0.000116</td>\n",
       "      <td>1.404108e+13</td>\n",
       "      <td>9.100791</td>\n",
       "      <td>0.000116</td>\n",
       "    </tr>\n",
       "    <tr>\n",
       "      <th>1</th>\n",
       "      <td>2</td>\n",
       "      <td>0.0</td>\n",
       "      <td>0.0</td>\n",
       "      <td>1.0</td>\n",
       "      <td>0.000118</td>\n",
       "      <td>1.373173e+13</td>\n",
       "      <td>9.084534</td>\n",
       "      <td>0.000118</td>\n",
       "      <td>0.0</td>\n",
       "      <td>0.0</td>\n",
       "      <td>...</td>\n",
       "      <td>1.373173e+13</td>\n",
       "      <td>9.084534</td>\n",
       "      <td>0.000118</td>\n",
       "      <td>0.0</td>\n",
       "      <td>0.0</td>\n",
       "      <td>1.0</td>\n",
       "      <td>0.000118</td>\n",
       "      <td>1.373173e+13</td>\n",
       "      <td>9.084534</td>\n",
       "      <td>0.000118</td>\n",
       "    </tr>\n",
       "    <tr>\n",
       "      <th>2</th>\n",
       "      <td>3</td>\n",
       "      <td>0.0</td>\n",
       "      <td>0.0</td>\n",
       "      <td>1.0</td>\n",
       "      <td>0.000116</td>\n",
       "      <td>1.400870e+13</td>\n",
       "      <td>9.101066</td>\n",
       "      <td>0.000116</td>\n",
       "      <td>0.0</td>\n",
       "      <td>0.0</td>\n",
       "      <td>...</td>\n",
       "      <td>1.400870e+13</td>\n",
       "      <td>9.101066</td>\n",
       "      <td>0.000116</td>\n",
       "      <td>0.0</td>\n",
       "      <td>0.0</td>\n",
       "      <td>1.0</td>\n",
       "      <td>0.000116</td>\n",
       "      <td>1.400870e+13</td>\n",
       "      <td>9.101066</td>\n",
       "      <td>0.000116</td>\n",
       "    </tr>\n",
       "    <tr>\n",
       "      <th>3</th>\n",
       "      <td>4</td>\n",
       "      <td>0.0</td>\n",
       "      <td>0.0</td>\n",
       "      <td>1.0</td>\n",
       "      <td>0.000117</td>\n",
       "      <td>1.384612e+13</td>\n",
       "      <td>9.090459</td>\n",
       "      <td>0.000117</td>\n",
       "      <td>0.0</td>\n",
       "      <td>0.0</td>\n",
       "      <td>...</td>\n",
       "      <td>1.384612e+13</td>\n",
       "      <td>9.090459</td>\n",
       "      <td>0.000117</td>\n",
       "      <td>0.0</td>\n",
       "      <td>0.0</td>\n",
       "      <td>1.0</td>\n",
       "      <td>0.000117</td>\n",
       "      <td>1.384612e+13</td>\n",
       "      <td>9.090459</td>\n",
       "      <td>0.000117</td>\n",
       "    </tr>\n",
       "    <tr>\n",
       "      <th>4</th>\n",
       "      <td>5</td>\n",
       "      <td>0.0</td>\n",
       "      <td>0.0</td>\n",
       "      <td>1.0</td>\n",
       "      <td>0.000117</td>\n",
       "      <td>1.377197e+13</td>\n",
       "      <td>9.094907</td>\n",
       "      <td>0.000117</td>\n",
       "      <td>0.0</td>\n",
       "      <td>0.0</td>\n",
       "      <td>...</td>\n",
       "      <td>1.377197e+13</td>\n",
       "      <td>9.094907</td>\n",
       "      <td>0.000117</td>\n",
       "      <td>0.0</td>\n",
       "      <td>0.0</td>\n",
       "      <td>1.0</td>\n",
       "      <td>0.000117</td>\n",
       "      <td>1.377197e+13</td>\n",
       "      <td>9.094907</td>\n",
       "      <td>0.000117</td>\n",
       "    </tr>\n",
       "  </tbody>\n",
       "</table>\n",
       "<p>5 rows × 36 columns</p>\n",
       "</div>"
      ],
      "text/plain": [
       "   Image  Contrast  Dissimilarity  Homogeneity    Energy   Correlation  \\\n",
       "0      1       0.0            0.0          1.0  0.000116  1.404108e+13   \n",
       "1      2       0.0            0.0          1.0  0.000118  1.373173e+13   \n",
       "2      3       0.0            0.0          1.0  0.000116  1.400870e+13   \n",
       "3      4       0.0            0.0          1.0  0.000117  1.384612e+13   \n",
       "4      5       0.0            0.0          1.0  0.000117  1.377197e+13   \n",
       "\n",
       "    Entropy       ASM  contrast_0  dissimilarity_0  ...  correlation_90  \\\n",
       "0  9.100791  0.000116         0.0              0.0  ...    1.404108e+13   \n",
       "1  9.084534  0.000118         0.0              0.0  ...    1.373173e+13   \n",
       "2  9.101066  0.000116         0.0              0.0  ...    1.400870e+13   \n",
       "3  9.090459  0.000117         0.0              0.0  ...    1.384612e+13   \n",
       "4  9.094907  0.000117         0.0              0.0  ...    1.377197e+13   \n",
       "\n",
       "     asm_90  entropy_90  contrast_135  dissimilarity_135  homogeneity_135  \\\n",
       "0  9.100791    0.000116           0.0                0.0              1.0   \n",
       "1  9.084534    0.000118           0.0                0.0              1.0   \n",
       "2  9.101066    0.000116           0.0                0.0              1.0   \n",
       "3  9.090459    0.000117           0.0                0.0              1.0   \n",
       "4  9.094907    0.000117           0.0                0.0              1.0   \n",
       "\n",
       "   energy_135  correlation_135   asm_135  entropy_135  \n",
       "0    0.000116     1.404108e+13  9.100791     0.000116  \n",
       "1    0.000118     1.373173e+13  9.084534     0.000118  \n",
       "2    0.000116     1.400870e+13  9.101066     0.000116  \n",
       "3    0.000117     1.384612e+13  9.090459     0.000117  \n",
       "4    0.000117     1.377197e+13  9.094907     0.000117  \n",
       "\n",
       "[5 rows x 36 columns]"
      ]
     },
     "execution_count": 11,
     "metadata": {},
     "output_type": "execute_result"
    }
   ],
   "source": [
    "def calculate_glcm(image, distances=[1], angles=[0, 45, 90, 135], levels=256):\n",
    "    glcm_matrices = []\n",
    "    \n",
    "    # Normalize the image to integer values between 0 and levels-1\n",
    "    max_val = np.max(image)\n",
    "    min_val = np.min(image)\n",
    "    image_normalized = ((image - min_val) / (max_val - min_val) * (levels - 1)).astype(np.uint8)\n",
    "    \n",
    "    for angle in angles:\n",
    "        glcm_matrix = np.zeros((levels, levels))\n",
    "        for distance in distances:\n",
    "            # Define offset for the given distance and angle\n",
    "            offset_x = int(round(distance * np.cos(np.radians(angle))))\n",
    "            offset_y = int(round(distance * np.sin(np.radians(angle))))\n",
    "            for i in range(image.shape[0]):\n",
    "                for j in range(image.shape[1]):\n",
    "                    # Check if the pixel and its neighbor are within image bounds\n",
    "                    if 0 <= i + offset_y < image.shape[0] and 0 <= j + offset_x < image.shape[1]:\n",
    "                        pixel_value = image_normalized[i, j]\n",
    "                        neighbor_value = image_normalized[i + offset_y, j + offset_x]\n",
    "                        glcm_matrix[pixel_value, neighbor_value] += 1\n",
    "        glcm_matrices.append(glcm_matrix)\n",
    "    return glcm_matrices\n",
    "\n",
    "def calculate_glcm_features(glcm_matrices):\n",
    "    features = []\n",
    "    for glcm_matrix in glcm_matrices:\n",
    "        # Normalize GLCM matrix\n",
    "        glcm_matrix /= np.sum(glcm_matrix)\n",
    "        \n",
    "        # Calculate features\n",
    "        contrast = np.sum(glcm_matrix * np.square(np.arange(glcm_matrix.shape[0]) - np.arange(glcm_matrix.shape[1])))\n",
    "        dissimilarity = np.sum(glcm_matrix * np.abs(np.arange(glcm_matrix.shape[0]) - np.arange(glcm_matrix.shape[1])))\n",
    "\n",
    "        homogeneity = np.sum(glcm_matrix / (1 + np.square(np.arange(glcm_matrix.shape[0]) - np.arange(glcm_matrix.shape[1]))))\n",
    "        energy = np.sum(np.square(glcm_matrix))\n",
    "        correlation = np.sum((np.arange(glcm_matrix.shape[0]) - np.mean(glcm_matrix)) * \n",
    "                             (np.arange(glcm_matrix.shape[1]) - np.mean(glcm_matrix)) * glcm_matrix / \n",
    "                             (np.std(glcm_matrix) ** 2))\n",
    "        entropy = -np.sum(glcm_matrix * np.log(glcm_matrix + 1e-10))\n",
    "        asm = np.sum(np.square(glcm_matrix))\n",
    "        \n",
    "        features.append({\n",
    "            'contrast': contrast,\n",
    "            'dissimilarity': dissimilarity,\n",
    "            'homogeneity': homogeneity,\n",
    "            'energy': energy,\n",
    "            'correlation': correlation,\n",
    "            'entropy': entropy,\n",
    "            'ASM': asm\n",
    "        })\n",
    "    return features\n",
    "\n",
    "\n",
    "# Example usage:\n",
    "# Assume you have a list of edge images called edge_images_prewitt_rotated\n",
    "edge_images_prewitt_rotated = [\n",
    "    # Replace with your actual edge images\n",
    "    np.random.randint(0, 256, size=(100, 100)),\n",
    "    np.random.randint(0, 256, size=(100, 100)),\n",
    "]\n",
    "\n",
    "# Calculate GLCM matrices\n",
    "glcm_matrices = []\n",
    "for edge_image in edge_images_prewitt_rotated:\n",
    "    glcm_matrices.extend(calculate_glcm(edge_image))\n",
    "\n",
    "# Calculate GLCM features\n",
    "glcm_features = calculate_glcm_features(glcm_matrices)\n",
    "\n",
    "# Prepare data for DataFrame\n",
    "data = []\n",
    "columns = ['Image', 'Contrast', 'Dissimilarity', 'Homogeneity', 'Energy', 'Correlation', 'Entropy', 'ASM']\n",
    "for angle in [0, 45, 90, 135]:\n",
    "    columns.extend([f'contrast_{angle}', f'dissimilarity_{angle}', f'homogeneity_{angle}', \n",
    "                    f'energy_{angle}', f'correlation_{angle}', f'asm_{angle}', f'entropy_{angle}'])\n",
    "\n",
    "for i, features in enumerate(glcm_features):\n",
    "    row = [i + 1, features['contrast'], features['dissimilarity'], features['homogeneity'], \n",
    "           features['energy'], features['correlation'], features['entropy'], features['ASM']]\n",
    "    for angle in [0, 45, 90, 135]:\n",
    "        row.extend([features['contrast'], features['dissimilarity'], features['homogeneity'], \n",
    "                    features['energy'], features['correlation'], features['entropy'], features['ASM']])\n",
    "    data.append(row)\n",
    "\n",
    "# Create DataFrame\n",
    "df = pd.DataFrame(data, columns=columns)\n",
    "\n",
    "# Display results\n",
    "print(df)\n",
    "df.head()"
   ]
  },
  {
   "cell_type": "markdown",
   "metadata": {},
   "source": [
    "### Features Selection"
   ]
  },
  {
   "cell_type": "code",
   "execution_count": 12,
   "metadata": {},
   "outputs": [
    {
     "data": {
      "image/png": "[encoded data removed]",
      "text/plain": [
       "<Figure size 1000x800 with 2 Axes>"
      ]
     },
     "metadata": {},
     "output_type": "display_data"
    },
    {
     "name": "stdout",
     "output_type": "stream",
     "text": [
      "Selected Features: ['Homogeneity']\n",
      "Selected Features: ['Homogeneity']\n",
      "     Filename  Label  Contrast  Dissimilarity  Homogeneity    Energy  \\\n",
      "0  Filename_0      0       0.0            0.0          1.0  0.000117   \n",
      "1  Filename_1      1       0.0            0.0          1.0  0.000118   \n",
      "2  Filename_2      2       0.0            0.0          1.0  0.000117   \n",
      "3  Filename_3      3       0.0            0.0          1.0  0.000118   \n",
      "4  Filename_4      4       0.0            0.0          1.0  0.000116   \n",
      "\n",
      "    Correlation       ASM   Entropy  \n",
      "0  1.393670e+13  9.095642  0.000117  \n",
      "1  1.379229e+13  9.087432  0.000118  \n",
      "2  1.391445e+13  9.096183  0.000117  \n",
      "3  1.378758e+13  9.086499  0.000118  \n",
      "4  1.416450e+13  9.102133  0.000116  \n"
     ]
    }
   ],
   "source": [
    "def feature_selection_correlation(results):\n",
    "    data = []\n",
    "    columns = ['Filename', 'Label', 'Contrast', 'Dissimilarity', 'Homogeneity', 'Energy', 'Correlation', 'ASM', 'Entropy']\n",
    "    for fname, label, features in results:\n",
    "        row = [fname, label]\n",
    "        row.extend(features.values())\n",
    "        data.append(row)\n",
    "    \n",
    "    df = pd.DataFrame(data, columns=columns)\n",
    "    \n",
    "    df['Label'] = df['Label'].astype('category').cat.codes\n",
    "    \n",
    "    numeric_df = df.drop(columns=['Filename'])\n",
    "    \n",
    "    corr = numeric_df.corr()\n",
    "    \n",
    "    plt.figure(figsize=(10, 8))\n",
    "    plt.title(\"Matriks Korelasi Fitur\")\n",
    "    plt.imshow(corr, cmap='coolwarm', interpolation='none', aspect='auto')\n",
    "    plt.colorbar()\n",
    "    plt.xticks(range(len(corr.columns)), corr.columns, rotation=45)\n",
    "    plt.yticks(range(len(corr.index)), corr.index)\n",
    "    for i in range(len(corr.columns)):\n",
    "        for j in range(len(corr.index)):\n",
    "            plt.text(j, i, f\"{corr.iloc[i, j]:.2f}\", ha='center', va='center', color='black')\n",
    "    plt.show()\n",
    "    \n",
    "    selected_features = corr['Label'][(corr['Label'] > 0.99) | (corr['Label'] < -0.99)].index.tolist()\n",
    "    selected_features.remove('Label')\n",
    "    \n",
    "    print(\"Selected Features:\", selected_features)\n",
    "    \n",
    "    return df, selected_features\n",
    "\n",
    "# Example usage:\n",
    "# Assume you have a list of edge images called edge_images_prewitt_rotated\n",
    "edge_images_prewitt_rotated = [\n",
    "    # Replace with your actual edge images\n",
    "    np.random.randint(0, 256, size=(100, 100)),\n",
    "    np.random.randint(0, 256, size=(100, 100)),\n",
    "]\n",
    "\n",
    "# Calculate GLCM matrices\n",
    "glcm_matrices = []\n",
    "for edge_image in edge_images_prewitt_rotated:\n",
    "    glcm_matrices.extend(calculate_glcm(edge_image))\n",
    "\n",
    "# Calculate GLCM features\n",
    "glcm_features = calculate_glcm_features(glcm_matrices)\n",
    "\n",
    "# Prepare data for DataFrame\n",
    "results = []\n",
    "for i, features in enumerate(glcm_features):\n",
    "    results.append((f'Filename_{i}', f'Label_{i}', features))\n",
    "\n",
    "# Perform feature selection based on correlation\n",
    "df_selected, selected_features = feature_selection_correlation(results)\n",
    "print(\"Selected Features:\", selected_features)\n",
    "print(df_selected.head())"
   ]
  },
  {
   "cell_type": "markdown",
   "metadata": {},
   "source": [
    "### Splitting Data"
   ]
  },
  {
   "cell_type": "code",
   "execution_count": 13,
   "metadata": {},
   "outputs": [
    {
     "name": "stdout",
     "output_type": "stream",
     "text": [
      "Training data shape: (6, 8)\n",
      "Testing data shape: (2, 8)\n"
     ]
    }
   ],
   "source": [
    "X = df_selected.drop(columns=['Label'])\n",
    "y = df_selected['Label']\n",
    "\n",
    "X_train, X_test, y_train, y_test = train_test_split(X, y, test_size=0.2, random_state=42)\n",
    "\n",
    "print(\"Training data shape:\", X_train.shape)\n",
    "print(\"Testing data shape:\", X_test.shape)"
   ]
  },
  {
   "cell_type": "markdown",
   "metadata": {},
   "source": [
    "### Normalization"
   ]
  },
  {
   "cell_type": "code",
   "execution_count": 14,
   "metadata": {},
   "outputs": [
    {
     "name": "stdout",
     "output_type": "stream",
     "text": [
      "Normalized Training data shape : (6, 7)\n",
      "Normalized Testing data shape: (2, 7)\n"
     ]
    }
   ],
   "source": [
    "X_train_numeric = X_train.select_dtypes(include=[np.number])\n",
    "X_test_numeric = X_test.select_dtypes(include=[np.number])\n",
    "\n",
    "def min_max_normalization(data):\n",
    "    min_val = data.min()\n",
    "    max_val = data.max()\n",
    "    normalized_data = (data - min_val) / (max_val - min_val)\n",
    "    return normalized_data\n",
    "\n",
    "X_train_normalized = X_train_numeric.apply(min_max_normalization, axis=0)\n",
    "\n",
    "X_test_normalized = X_test_numeric.apply(min_max_normalization, axis=0)\n",
    "\n",
    "print(\"Normalized Training data shape :\", X_train_normalized.shape)\n",
    "print(\"Normalized Testing data shape:\", X_test_normalized.shape)"
   ]
  },
  {
   "cell_type": "markdown",
   "metadata": {},
   "source": [
    "## Modeling"
   ]
  },
  {
   "cell_type": "code",
   "execution_count": 15,
   "metadata": {},
   "outputs": [
    {
     "name": "stdout",
     "output_type": "stream",
     "text": [
      "Training Accuracy: 1.0\n",
      "Testing Accuracy: 0.0\n"
     ]
    }
   ],
   "source": [
    "X_train_numeric = X_train.drop(columns=['Filename'])\n",
    "X_test_numeric = X_test.drop(columns=['Filename'])\n",
    "\n",
    "rf_classifier = RandomForestClassifier(n_estimators=100, random_state=42)\n",
    "\n",
    "rf_classifier.fit(X_train_numeric, y_train)\n",
    "\n",
    "y_pred_train = rf_classifier.predict(X_train_numeric)\n",
    "y_pred_test = rf_classifier.predict(X_test_numeric)\n",
    "\n",
    "accuracy_train = accuracy_score(y_train, y_pred_train)\n",
    "accuracy_test = accuracy_score(y_test, y_pred_test)\n",
    "\n",
    "print(\"Training Accuracy:\", accuracy_train)\n",
    "print(\"Testing Accuracy:\", accuracy_test)"
   ]
  },
  {
   "cell_type": "markdown",
   "metadata": {},
   "source": [
    "## Evaluation"
   ]
  },
  {
   "cell_type": "code",
   "execution_count": 16,
   "metadata": {},
   "outputs": [
    {
     "name": "stdout",
     "output_type": "stream",
     "text": [
      "Evaluation Metrics:\n",
      "-----------------------------------------------------\n",
      "| Metric      |   Training Set   |   Testing Set    |\n",
      "-----------------------------------------------------\n",
      "| Accuracy    |    1.0000        |    0.0000        |\n",
      "| Precision   |    1.0000        |    0.0000        |\n",
      "| Recall      |    1.0000        |    0.0000        |\n",
      "| F1-score    |    1.0000        |    0.0000        |\n",
      "-----------------------------------------------------\n",
      "Confusion Matrix:\n",
      "Training Set\n",
      "[[1 0 0 0 0 0]\n",
      " [0 1 0 0 0 0]\n",
      " [0 0 1 0 0 0]\n",
      " [0 0 0 1 0 0]\n",
      " [0 0 0 0 1 0]\n",
      " [0 0 0 0 0 1]]\n",
      "\n",
      "Testing Set\n",
      "[[0 1 0]\n",
      " [0 0 0]\n",
      " [0 1 0]]\n"
     ]
    }
   ],
   "source": [
    "X_train_numeric = X_train.drop(columns=['Filename'])\n",
    "X_test_numeric = X_test.drop(columns=['Filename'])\n",
    "\n",
    "rf_classifier = RandomForestClassifier(n_estimators=100, random_state=42)\n",
    "\n",
    "rf_classifier.fit(X_train_numeric, y_train)\n",
    "\n",
    "y_pred_train = rf_classifier.predict(X_train_numeric)\n",
    "y_pred_test = rf_classifier.predict(X_test_numeric)\n",
    "\n",
    "warnings.filterwarnings(\"ignore\", category=UndefinedMetricWarning)\n",
    "\n",
    "conf_matrix_train = confusion_matrix(y_train, y_pred_train)\n",
    "conf_matrix_test = confusion_matrix(y_test, y_pred_test)\n",
    "\n",
    "accuracy_train = accuracy_score(y_train, y_pred_train)\n",
    "accuracy_test = accuracy_score(y_test, y_pred_test)\n",
    "\n",
    "precision_train = precision_score(y_train, y_pred_train, average='macro', zero_division='warn')\n",
    "precision_test = precision_score(y_test, y_pred_test, average='macro', zero_division='warn')\n",
    "\n",
    "recall_train = recall_score(y_train, y_pred_train, average='macro', zero_division='warn')\n",
    "recall_test = recall_score(y_test, y_pred_test, average='macro', zero_division='warn')\n",
    "\n",
    "f1_train = f1_score(y_train, y_pred_train, average='macro', zero_division='warn')\n",
    "f1_test = f1_score(y_test, y_pred_test, average='macro', zero_division='warn')\n",
    "\n",
    "print(\"Evaluation Metrics:\")\n",
    "print(\"-----------------------------------------------------\")\n",
    "print(\"| Metric      |   Training Set   |   Testing Set    |\")\n",
    "print(\"-----------------------------------------------------\")\n",
    "print(\"| Accuracy    |    {:.4f}        |    {:.4f}        |\".format(accuracy_train, accuracy_test))\n",
    "print(\"| Precision   |    {:.4f}        |    {:.4f}        |\".format(precision_train, precision_test))\n",
    "print(\"| Recall      |    {:.4f}        |    {:.4f}        |\".format(recall_train, recall_test))\n",
    "print(\"| F1-score    |    {:.4f}        |    {:.4f}        |\".format(f1_train, f1_test))\n",
    "print(\"-----------------------------------------------------\")\n",
    "\n",
    "print(\"Confusion Matrix:\")\n",
    "print(\"Training Set\")\n",
    "print(conf_matrix_train)\n",
    "print(\"\\nTesting Set\")\n",
    "print(conf_matrix_test)"
   ]
  }
 ],
 "metadata": {
  "kernelspec": {
   "display_name": "Python 3",
   "language": "python",
   "name": "python3"
  },
  "language_info": {
   "codemirror_mode": {
    "name": "ipython",
    "version": 3
   },
   "file_extension": ".py",
   "mimetype": "text/x-python",
   "name": "python",
   "nbconvert_exporter": "python",
   "pygments_lexer": "ipython3",
   "version": "3.10.11"
  }
 },
 "nbformat": 4,
 "nbformat_minor": 2
}
